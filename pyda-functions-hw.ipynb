{
 "cells": [
  {
   "cell_type": "markdown",
   "metadata": {},
   "source": [
    "## Задание 1"
   ]
  },
  {
   "cell_type": "markdown",
   "metadata": {},
   "source": [
    "Дан список вида:"
   ]
  },
  {
   "cell_type": "code",
   "execution_count": 2,
   "metadata": {},
   "outputs": [],
   "source": [
    "data = [\n",
    "    [13, 25, 23, 34],\n",
    "    [45, 32, 44, 47],\n",
    "    [12, 33, 23, 95],\n",
    "    [13, 53, 34, 35]\n",
    "]"
   ]
  },
  {
   "cell_type": "markdown",
   "metadata": {},
   "source": [
    "Напишите функцию, которая возвращает сумму элементов на диагонали. Т. е. 13+32+23+35.  \n",
    "Список может быть любой длины, но всегда является \"квадратным\" (количество элементов во вложенных списках равно их количеству)."
   ]
  },
  {
   "cell_type": "code",
   "execution_count": 3,
   "metadata": {},
   "outputs": [
    {
     "name": "stdout",
     "output_type": "stream",
     "text": [
      "103\n"
     ]
    }
   ],
   "source": [
    "def diagonal (list):\n",
    "    summ=0\n",
    "    n=-2\n",
    "    for el in list:\n",
    "        n+=1\n",
    "        summ+=el[n+1]\n",
    "        #print(el[n+1])\n",
    "    print (summ)\n",
    "diagonal(data)    \n",
    "    "
   ]
  },
  {
   "cell_type": "markdown",
   "metadata": {},
   "source": [
    "## Задание 2"
   ]
  },
  {
   "cell_type": "markdown",
   "metadata": {},
   "source": [
    "Напишите функцию, возвращающую сумму первых n чисел Фибоначчи (для этого вам может понадобится ознакомиться с рекурсией)."
   ]
  },
  {
   "cell_type": "code",
   "execution_count": 4,
   "metadata": {},
   "outputs": [
    {
     "data": {
      "text/plain": [
       "12"
      ]
     },
     "execution_count": 4,
     "metadata": {},
     "output_type": "execute_result"
    }
   ],
   "source": [
    "def fibonacci(n):\n",
    "    a = 0\n",
    "    b = 1 \n",
    "    sum_= 0\n",
    "    for i in range (n):\n",
    "        a,b = b,a+b\n",
    "    #print(a)\n",
    "        sum_+= a\n",
    "    return(sum_)\n",
    "fibonacci(5)"
   ]
  },
  {
   "cell_type": "markdown",
   "metadata": {},
   "source": [
    "## Задание 3\n"
   ]
  },
  {
   "cell_type": "markdown",
   "metadata": {},
   "source": [
    "Напишите функцию, преобразующую произвольный список вида ['2018-01-01', 'yandex', 'cpc', 100] (он может быть любой длины) в словарь {'2018-01-01': {'yandex': {'cpc': 100}}}"
   ]
  },
  {
   "cell_type": "code",
   "execution_count": 5,
   "metadata": {},
   "outputs": [],
   "source": [
    "list_=['2018-01-01', 'yandex', 'cpc', 100]"
   ]
  },
  {
   "cell_type": "code",
   "execution_count": 6,
   "metadata": {},
   "outputs": [
    {
     "data": {
      "text/plain": [
       "{'2018-01-01': {'yandex': {'cpc': {100: {}}}}}"
      ]
     },
     "execution_count": 6,
     "metadata": {},
     "output_type": "execute_result"
    }
   ],
   "source": [
    "def make_dictionary(list):\n",
    "    dict_= {}\n",
    "    for i in list[::-1]:\n",
    "        dict_ = {i: dict_}\n",
    "    return dict_\n",
    "make_dictionary(list_)"
   ]
  },
  {
   "cell_type": "markdown",
   "metadata": {},
   "source": [
    "## Задание 4"
   ]
  },
  {
   "cell_type": "markdown",
   "metadata": {},
   "source": [
    "Вы работаете секретарем и вам постоянно приходят различные документы. Вы должны быть очень внимательны, чтобы не потерять ни один документ. Каталог документов хранится в следующем виде:"
   ]
  },
  {
   "cell_type": "code",
   "execution_count": 1,
   "metadata": {},
   "outputs": [],
   "source": [
    "documents = [\n",
    "    {'type': 'passport', 'number': '2207 876234', 'name': 'Василий Гупкин'},\n",
    "    {'type': 'invoice', 'number': '11-2', 'name': 'Геннадий Покемонов'},\n",
    "    {'type': 'insurance', 'number': '10006', 'name': 'Аристарх Павлов'}\n",
    "]"
   ]
  },
  {
   "cell_type": "markdown",
   "metadata": {},
   "source": [
    "Перечень полок, на которых находятся документы хранится в следующем виде:"
   ]
  },
  {
   "cell_type": "code",
   "execution_count": 2,
   "metadata": {},
   "outputs": [],
   "source": [
    "directories = {\n",
    "    '1': ['2207 876234', '11-2', '5455 028765'],\n",
    "    '2': ['10006', '5400 028765', '5455 002299'],\n",
    "    '3': []\n",
    "}"
   ]
  },
  {
   "cell_type": "code",
   "execution_count": null,
   "metadata": {},
   "outputs": [],
   "source": [
    "Необходимо реализовать пользовательские команды (внимание! это не название функций, которые должны быть выразительными, а команды, которые вводит пользователь, чтобы получить необходимый результат):\n",
    "  \n",
    "- p – people – команда, которая спросит номер документа и выведет имя человека, которому он принадлежит;  \n",
    "- s – shelf – команда, которая спросит номер документа и выведет номер полки, на которой он находится  \n",
    "Правильно обработайте ситуацию, когда пользователь будет вводить несуществующий документ.\n",
    "- l – list – команда, которая выведет список всех документов в формате   \n",
    "**passport \"2207 876234\" \"Василий Гупкин\"**  \n",
    "- as – add shelf – команда, которая спросит номер новой полки и добавит ее в перечень\n",
    "- d – delete – команда, которая спросит номер документа и удалит его из каталога и из перечня полок. Предусмотрите сценарий, когда пользователь вводит несуществующий документ;  \n",
    "- m – move – команда, которая спросит номер документа и целевую полку и переместит его с текущей полки на целевую. Корректно обработайте кейсы, когда пользователь пытается переместить несуществующий документ или переместить документ на несуществующую полку;  \n",
    "- a – add – команда, которая добавит новый документ в каталог и в перечень полок, спросив его номер, тип, имя владельца и номер полки, на котором он будет храниться."
   ]
  },
  {
   "cell_type": "code",
   "execution_count": 3,
   "metadata": {},
   "outputs": [],
   "source": [
    "def people():\n",
    "    number_doc=input('Введите номер документа ')\n",
    "    for el in documents:\n",
    "        if number_doc in el.values():\n",
    "            print('Данные:', el['name'])\n",
    "            break\n",
    "    else:\n",
    "        print('Отсутствует документ')\n",
    "    #return people"
   ]
  },
  {
   "cell_type": "code",
   "execution_count": 4,
   "metadata": {},
   "outputs": [],
   "source": [
    "def shelf():\n",
    "    doc_numb = input('Номер документа ')\n",
    "    for shelf,doc in directories.items():\n",
    "        if doc_numb in doc:\n",
    "            print('Номер полки', shelf)\n",
    "            return True\n",
    "    else:\n",
    "        print('Несуществующий документ') \n",
    "    \n",
    "    "
   ]
  },
  {
   "cell_type": "code",
   "execution_count": 5,
   "metadata": {},
   "outputs": [],
   "source": [
    "def LIST():\n",
    "      for el in documents:\n",
    "        d = list(el.values())\n",
    "        print(' '.join(d))  "
   ]
  },
  {
   "cell_type": "code",
   "execution_count": 6,
   "metadata": {},
   "outputs": [],
   "source": [
    "def add_shelf():\n",
    "    shelf_number_new = input('Создать полку № ')\n",
    "    if shelf_number_new not in directories:\n",
    "        directories.setdefault(shelf_number_new, [])\n",
    "        print(directories)\n",
    "        return directories\n",
    "    #return 'Такая полка уже существует'\n",
    "    else:\n",
    "        print('Такая полка уже существует')\n",
    "        "
   ]
  },
  {
   "cell_type": "code",
   "execution_count": 60,
   "metadata": {},
   "outputs": [],
   "source": [
    "#DELETE\n",
    "def delete():\n",
    "    doc_numb = input('Номер документа ')\n",
    "    new_direct = directories.copy()\n",
    "    for shelf,doc in new_direct.items():\n",
    "        if doc_numb in doc:\n",
    "            doc.remove(doc_numb)\n",
    "            directories[shelf]=doc\n",
    "            break           \n",
    "    for el in documents:\n",
    "        if doc_numb in el.values():\n",
    "            del(el['number'])\n",
    "    else:\n",
    "        print('Документ не найден')   \n",
    "        return False\n",
    "    print(directories)\n",
    "    print(documents)"
   ]
  },
  {
   "cell_type": "code",
   "execution_count": 7,
   "metadata": {},
   "outputs": [],
   "source": [
    "#move\n",
    "def move():\n",
    "    doc_numb = input('Номер документа ')\n",
    "    shelf_numb = input('На какую полку переместить? ')\n",
    "    new_direct = directories.copy()\n",
    "    if shelf_numb in directories.keys():\n",
    "        for shelf,doc in new_direct.items():\n",
    "            if doc_numb in doc:\n",
    "                doc.remove(doc_numb)\n",
    "                directories[shelf] = doc\n",
    "                directories[shelf_numb] = directories[shelf_numb] + doc_numb.split(',')\n",
    "                break\n",
    "        else:\n",
    "                print('Документ не найден')\n",
    "    else:\n",
    "        print('Отсутствует такая полка ')\n",
    "        #return False\n",
    "    return directories\n",
    "        \n",
    "\n",
    "    "
   ]
  },
  {
   "cell_type": "code",
   "execution_count": 8,
   "metadata": {},
   "outputs": [],
   "source": [
    "def add ():\n",
    "    num_doc = input('Введите номер документа ').split(',')\n",
    "    type_doc = input('Введите тип документа ')\n",
    "    name_doc = input('Введите имя владельца ')\n",
    "    num_shelf = input('Номер полки ')\n",
    "    new_dict = {}\n",
    "    new_dict = dict(type = type_doc, number = ' '.join(num_doc), name= name_doc)\n",
    "    documents.append(new_dict) \n",
    "    directories_new =  directories.copy()\n",
    "    for shelf, doc in directories_new.items():\n",
    "        if num_shelf == shelf:\n",
    "            directories[num_shelf] = (doc + num_doc) \n",
    "        else:\n",
    "            directories.setdefault(num_shelf, num_doc)\n",
    "    print(documents)         \n",
    "    print(directories) \n"
   ]
  },
  {
   "cell_type": "code",
   "execution_count": 9,
   "metadata": {},
   "outputs": [],
   "source": [
    "def main():\n",
    "    button = input('Введите команду ')\n",
    "    if button == 'p':\n",
    "        #people()\n",
    "        people()\n",
    "    elif button == 's':\n",
    "        shelf()\n",
    "    elif button == 'l':\n",
    "        LIST()    \n",
    "    elif button == 'as':\n",
    "        add_shelf()\n",
    "    elif button == 'd':\n",
    "        delete()    \n",
    "    elif button == 'm':\n",
    "        move() \n",
    "    elif button == 'a':\n",
    "         add()"
   ]
  },
  {
   "cell_type": "code",
   "execution_count": 10,
   "metadata": {},
   "outputs": [
    {
     "name": "stdout",
     "output_type": "stream",
     "text": [
      "Введите команду p\n",
      "Введите номер документа 11-2\n",
      "Данные: Геннадий Покемонов\n"
     ]
    }
   ],
   "source": [
    "main()"
   ]
  },
  {
   "cell_type": "code",
   "execution_count": null,
   "metadata": {},
   "outputs": [],
   "source": []
  }
 ],
 "metadata": {
  "kernelspec": {
   "display_name": "Python 3",
   "language": "python",
   "name": "python3"
  },
  "language_info": {
   "codemirror_mode": {
    "name": "ipython",
    "version": 3
   },
   "file_extension": ".py",
   "mimetype": "text/x-python",
   "name": "python",
   "nbconvert_exporter": "python",
   "pygments_lexer": "ipython3",
   "version": "3.7.4"
  }
 },
 "nbformat": 4,
 "nbformat_minor": 2
}
